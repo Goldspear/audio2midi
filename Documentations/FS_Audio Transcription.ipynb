{
 "cells": [
  {
   "cell_type": "markdown",
   "metadata": {},
   "source": [
    "# Audio Transcription Lanscape\n",
    "***"
   ]
  },
  {
   "cell_type": "markdown",
   "metadata": {},
   "source": [
    "## 1. Commericial Applications\n",
    "\n",
    "[AnthemScore 4 by Lunaverus](https://www.lunaverus.com/)  \n",
    "[intelliscore emsemble](http://www.intelliscore.net/download.html) (2008)  \n",
    "[ScoreCloud](https://scorecloud.com/)  \n",
    "[Melody Scanner](https://melodyscanner.com/)  \n",
    "[Akoff Music Composer](http://akoff.com/)  \n",
    "[Audio Score Unlimited By Sibelious](http://www.sibelius.com/products/audioscore/ultimate.html)  \n",
    "[Transcribe! by SeventhString](https://www.seventhstring.com/xscribe/overview.html)  "
   ]
  },
  {
   "cell_type": "markdown",
   "metadata": {},
   "source": [
    "## 2. Machine Learning References:\n",
    "\n",
    "Magenta: [Music Transformer](https://arxiv.org/pdf/1809.04281.pdf)"
   ]
  },
  {
   "cell_type": "markdown",
   "metadata": {},
   "source": [
    "## 3. Analytical Libraries\n",
    "\n",
    "[Vamp - Plugin](https://www.vamp-plugins.org/)  \n",
    "[Librosa](https://librosa.github.io/librosa/generated/librosa.feature.rms.html)  \n",
    "[Transcirbe](https://www.seventhstring.com/resources/transcription.html)"
   ]
  },
  {
   "cell_type": "code",
   "execution_count": null,
   "metadata": {},
   "outputs": [],
   "source": []
  }
 ],
 "metadata": {
  "kernelspec": {
   "display_name": "Python [conda env:digitRec]",
   "language": "python",
   "name": "conda-env-digitRec-py"
  },
  "language_info": {
   "codemirror_mode": {
    "name": "ipython",
    "version": 3
   },
   "file_extension": ".py",
   "mimetype": "text/x-python",
   "name": "python",
   "nbconvert_exporter": "python",
   "pygments_lexer": "ipython3",
   "version": "3.7.3"
  }
 },
 "nbformat": 4,
 "nbformat_minor": 4
}
